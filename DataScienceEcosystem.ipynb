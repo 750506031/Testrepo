{
 "cells": [
  {
   "cell_type": "markdown",
   "id": "4e02f589-35a0-48fb-b1c2-403410874e7b",
   "metadata": {},
   "source": [
    "# Data Science Tools and Ecosystem"
   ]
  },
  {
   "cell_type": "markdown",
   "id": "990cb4b9-6e4a-4a04-a43d-537a02bed057",
   "metadata": {},
   "source": [
    "### In this notebook, Data Science Tools and Ecosystem are summarized."
   ]
  },
  {
   "cell_type": "markdown",
   "id": "55593db1-75a8-4a2b-a50a-a04e8420e663",
   "metadata": {},
   "source": [
    "### Some of the popular languages that Data Scientists use are: \n",
    "1. Python\n",
    "2. R\n",
    "3. Matlab\n",
    "4. SAS"
   ]
  },
  {
   "cell_type": "markdown",
   "id": "e7b248a9-a0be-4411-980f-d8a1d8b83cc8",
   "metadata": {},
   "source": [
    "### Some of the commonly used libraries used by Data Scientists include:\n",
    "1. pandas\n",
    "2. numpy\n",
    "3. matplotlib\n",
    "4. sys"
   ]
  },
  {
   "cell_type": "markdown",
   "id": "8b7878f0-a692-444c-949d-0c7d1c222d89",
   "metadata": {},
   "source": [
    "|Data Science Tools|\n",
    "|------------------|\n",
    "|Anaconda|\n",
    "|visual studio|\n",
    "|Pycharm|"
   ]
  },
  {
   "cell_type": "markdown",
   "id": "1a05e15c-7050-4f38-9a08-5a1da2ed809a",
   "metadata": {},
   "source": [
    "### Below are a few examples of evaluating arithmetic expressions in Python"
   ]
  },
  {
   "cell_type": "code",
   "execution_count": 3,
   "id": "1f57ffd5-9fa3-4c78-a770-cea236418c73",
   "metadata": {},
   "outputs": [
    {
     "data": {
      "text/plain": [
       "17"
      ]
     },
     "execution_count": 3,
     "metadata": {},
     "output_type": "execute_result"
    }
   ],
   "source": [
    "#This a simple arithmetic expression to mutiply then add integers\n",
    "(3*4)+5"
   ]
  },
  {
   "cell_type": "code",
   "execution_count": 4,
   "id": "029d8641-3287-46ae-ad58-51d550665c0f",
   "metadata": {},
   "outputs": [
    {
     "data": {
      "text/plain": [
       "3.3333333333333335"
      ]
     },
     "execution_count": 4,
     "metadata": {},
     "output_type": "execute_result"
    }
   ],
   "source": [
    "#This will convert 200 minutes to hours by diving by 60\n",
    "munites = 200\n",
    "hours = munites / 60\n",
    "hours"
   ]
  },
  {
   "cell_type": "markdown",
   "id": "177b6b29-45bd-47d2-8e67-b64ca30a3f53",
   "metadata": {},
   "source": [
    "<font face=\"bold\">Objectives:<font>\n",
    "* List popular languages for Data Science\n",
    "* Evaluating arithmetic expressions\n",
    "* Commonly used libraries used by Data Scientists"
   ]
  },
  {
   "cell_type": "markdown",
   "id": "3dc3185b-dab8-4a42-8c21-736ee5e54027",
   "metadata": {},
   "source": [
    "## Author\n",
    "###### Jianjun He"
   ]
  },
  {
   "cell_type": "code",
   "execution_count": null,
   "id": "88aaff90-094b-4f87-b8ee-9887d42acbeb",
   "metadata": {},
   "outputs": [],
   "source": []
  }
 ],
 "metadata": {
  "kernelspec": {
   "display_name": "Python [conda env:base] *",
   "language": "python",
   "name": "conda-base-py"
  },
  "language_info": {
   "codemirror_mode": {
    "name": "ipython",
    "version": 3
   },
   "file_extension": ".py",
   "mimetype": "text/x-python",
   "name": "python",
   "nbconvert_exporter": "python",
   "pygments_lexer": "ipython3",
   "version": "3.12.7"
  }
 },
 "nbformat": 4,
 "nbformat_minor": 5
}
